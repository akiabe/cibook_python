{
 "cells": [
  {
   "cell_type": "code",
   "execution_count": 1,
   "metadata": {},
   "outputs": [],
   "source": [
    "import warnings\n",
    "warnings.filterwarnings(\"ignore\")"
   ]
  },
  {
   "cell_type": "code",
   "execution_count": null,
   "outputs": [],
   "source": [
    "import pandas as pd"
   ],
   "metadata": {
    "collapsed": false,
    "pycharm": {
     "name": "#%%\n"
    }
   }
  },
  {
   "cell_type": "code",
   "execution_count": null,
   "outputs": [],
   "source": [
    "email_data = pd.read_csv(\"http://www.minethatdata.com/Kevin_Hillstrom_MineThatData_E-MailAnalytics_DataMiningChallenge_2008.03.20.csv\")\n",
    "email_data.head(3)"
   ],
   "metadata": {
    "collapsed": false,
    "pycharm": {
     "name": "#%%\n"
    }
   }
  },
  {
   "cell_type": "code",
   "execution_count": null,
   "outputs": [],
   "source": [
    "male_df = email_data[email_data[\"segment\"] != \"Womens E-Mail\"]\n",
    "male_df[\"treatment\"] = male_df[\"segment\"].map(lambda x: 1 if x == \"Mens E-Mail\" else 0)\n",
    "male_df.head(3)"
   ],
   "metadata": {
    "collapsed": false,
    "pycharm": {
     "name": "#%%\n"
    }
   }
  },
  {
   "cell_type": "code",
   "execution_count": null,
   "outputs": [],
   "source": [
    "treatment_data = male_df[male_df[\"treatment\"] == 1]\n",
    "control_data = male_df[male_df[\"treatment\"] == 0]\n",
    "\n",
    "treatment_biased = treatment_data.drop(treatment_data[(\n",
    "    (treatment_data['history'] > 300) |\n",
    "    (treatment_data['recency'] < 6) |\n",
    "    (treatment_data['recency'] == 'Multichannel')\n",
    ") == False].sample(frac=0.5, random_state=1).index)\n",
    "\n",
    "control_biased = control_data.drop(control_data[\n",
    "    (control_data['history'] > 300) |\n",
    "    (control_data['recency'] < 6) |\n",
    "    (control_data['recency'] == 'Multichannel')\n",
    "].sample(frac=0.5, random_state=1).index)\n",
    "\n",
    "biased_data = pd.concat([treatment_biased, control_biased], axis=0)\n",
    "biased_data.head(3)"
   ],
   "metadata": {
    "collapsed": false,
    "pycharm": {
     "name": "#%%\n"
    }
   }
  },
  {
   "cell_type": "code",
   "execution_count": null,
   "outputs": [],
   "source": [
    "import statsmodels.formula.api as smf"
   ],
   "metadata": {
    "collapsed": false,
    "pycharm": {
     "name": "#%%\n"
    }
   }
  },
  {
   "cell_type": "code",
   "execution_count": null,
   "outputs": [],
   "source": [
    "biased_reg = smf.ols(\n",
    "    data=biased_data,\n",
    "    formula=\"spend ~ treatment + history\",\n",
    ").fit()"
   ],
   "metadata": {
    "collapsed": false,
    "pycharm": {
     "name": "#%%\n"
    }
   }
  },
  {
   "cell_type": "code",
   "execution_count": null,
   "outputs": [],
   "source": [
    "biased_reg.summary().tables[1]"
   ],
   "metadata": {
    "collapsed": false,
    "pycharm": {
     "name": "#%%\n"
    }
   }
  },
  {
   "cell_type": "code",
   "execution_count": null,
   "outputs": [],
   "source": [
    "rct_reg = smf.ols(\n",
    "    data=male_df,\n",
    "    formula=\"spend ~ treatment\",\n",
    ").fit()\n",
    "\n",
    "rct_reg.summary().tables[1]"
   ],
   "metadata": {
    "collapsed": false,
    "pycharm": {
     "name": "#%%\n"
    }
   }
  },
  {
   "cell_type": "code",
   "execution_count": null,
   "outputs": [],
   "source": [
    "nonrct_reg = smf.ols(\n",
    "    data=biased_data,\n",
    "    formula=\"spend ~ treatment\",\n",
    ").fit()\n",
    "\n",
    "nonrct_reg.summary().tables[1]"
   ],
   "metadata": {
    "collapsed": false,
    "pycharm": {
     "name": "#%%\n"
    }
   }
  },
  {
   "cell_type": "code",
   "execution_count": null,
   "outputs": [],
   "source": [
    "nonrct_mreg = smf.ols(\n",
    "    data=biased_data,\n",
    "    formula=\"spend ~ treatment + history + channel + recency\",\n",
    ").fit()\n",
    "\n",
    "nonrct_mreg.summary().tables[1]"
   ],
   "metadata": {
    "collapsed": false,
    "pycharm": {
     "name": "#%%\n"
    }
   }
  },
  {
   "cell_type": "code",
   "execution_count": null,
   "outputs": [],
   "source": [
    "models = {\n",
    "    \"model_1\":smf.ols(data=biased_data, formula=\"spend ~ treatment + recency + channel\"),\n",
    "    \"model_2\":smf.ols(data=biased_data, formula=\"spend ~ treatment + recency + channel + history\"),\n",
    "    \"model_3\":smf.ols(data=biased_data, formula=\"history ~ treatment + recency + channel\"),\n",
    "}\n",
    "\n",
    "results = {}\n",
    "for name, model in models.items():\n",
    "    results[name] = model.fit()"
   ],
   "metadata": {
    "collapsed": false,
    "pycharm": {
     "name": "#%%\n"
    }
   }
  },
  {
   "cell_type": "code",
   "execution_count": null,
   "outputs": [],
   "source": [
    "OVB = results[\"model_2\"].params[\"history\"] * results[\"model_3\"].params[\"treatment\"]\n",
    "coef_gap = results[\"model_1\"].params[\"treatment\"] - results[\"model_2\"].params[\"treatment\"]\n",
    "print(f\"OVB={OVB:.4f}, coef_gap={coef_gap:.4f}\")"
   ],
   "metadata": {
    "collapsed": false,
    "pycharm": {
     "name": "#%%\n"
    }
   }
  },
  {
   "cell_type": "code",
   "execution_count": null,
   "outputs": [],
   "source": [
    "corr_visit_treatment = smf.ols(\n",
    "    data=biased_data,\n",
    "    formula=\"treatment ~ visit + channel + recency + history\",\n",
    ").fit()\n",
    "\n",
    "corr_visit_treatment.summary().tables[1]"
   ],
   "metadata": {
    "collapsed": false,
    "pycharm": {
     "name": "#%%\n"
    }
   }
  },
  {
   "cell_type": "code",
   "execution_count": null,
   "outputs": [],
   "source": [
    "bad_control_reg = smf.ols(\n",
    "    data=biased_data,\n",
    "    formula=\"spend ~ treatment + visit + channel + recency + history\",\n",
    ").fit()\n",
    "\n",
    "bad_control_reg.summary().tables[1]"
   ],
   "metadata": {
    "collapsed": false,
    "pycharm": {
     "name": "#%%\n"
    }
   }
  },
  {
   "cell_type": "code",
   "execution_count": null,
   "outputs": [],
   "source": [
    "import rdata"
   ],
   "metadata": {
    "collapsed": false,
    "pycharm": {
     "name": "#%%\n"
    }
   }
  },
  {
   "cell_type": "code",
   "execution_count": null,
   "outputs": [],
   "source": [
    "parsed = rdata.parser.parse_file(\"../input/vouchers.rda\")\n",
    "converted = rdata.conversion.convert(parsed)\n",
    "vouchers = converted[\"vouchers\"]\n",
    "vouchers.head(3)"
   ],
   "metadata": {
    "collapsed": false,
    "pycharm": {
     "name": "#%%\n"
    }
   }
  },
  {
   "cell_type": "code",
   "execution_count": null,
   "outputs": [],
   "source": [
    "vouchers.columns"
   ],
   "metadata": {
    "collapsed": false,
    "pycharm": {
     "name": "#%%\n"
    }
   }
  },
  {
   "cell_type": "code",
   "execution_count": null,
   "outputs": [],
   "source": [
    "formula_x_base = \"VOUCH0\"\n",
    "\n",
    "formula_x_covariate = \"\"\"\n",
    "    SVY + HSVISIT + AGE + STRATA1 + STRATA2 + STRATA3 + \n",
    "    STRATA4 + STRATA5 + STRATA6 + STRATAMS + D1993 + D1995 + D1997 + \n",
    "    DMONTH1 + DMONTH2 + DMONTH3 + DMONTH4 + DMONTH5 + DMONTH6 + DMONTH7 + \n",
    "    DMONTH8 + DMONTH9 + DMONTH10 + DMONTH11 + DMONTH12 + SEX2\n",
    "\"\"\"\n",
    "\n",
    "formula_y = [\n",
    "    \"TOTSCYRS\", \"INSCHL\", \"PRSCH_C\", \"USNGSCH\", \"PRSCHA_1\", \"FINISH6\",\n",
    "    \"FINISH7\", \"FINISH8\", \"REPT6\", \"REPT\", \"NREPT\", \"MARRIED\",\"HASCHILD\",\n",
    "    \"HOURSUM\", \"WORKING3\"\n",
    "]"
   ],
   "metadata": {
    "collapsed": false,
    "pycharm": {
     "name": "#%%\n"
    }
   }
  },
  {
   "cell_type": "code",
   "execution_count": null,
   "outputs": [],
   "source": [
    "print(vouchers[\"TAB3SMPL\"].unique())\n",
    "print(vouchers['BOG95SMP'].unique())"
   ],
   "metadata": {
    "collapsed": false,
    "pycharm": {
     "name": "#%%\n"
    }
   }
  },
  {
   "cell_type": "code",
   "execution_count": null,
   "outputs": [],
   "source": [
    "regression_data = vouchers[(vouchers[\"TAB3SMPL\"] == 1) & (vouchers['BOG95SMP'] == 1)]\n",
    "regression_data.head(3)"
   ],
   "metadata": {
    "collapsed": false,
    "pycharm": {
     "name": "#%%\n"
    }
   }
  },
  {
   "cell_type": "code",
   "execution_count": null,
   "outputs": [],
   "source": [
    "models = {}\n",
    "for y in formula_y:\n",
    "    model = smf.ols(\n",
    "        data=regression_data,\n",
    "        formula=f\"{y} ~ {formula_x_base}\"\n",
    "    )\n",
    "    \n",
    "    models[y] = model.fit()  "
   ],
   "metadata": {
    "collapsed": false,
    "pycharm": {
     "name": "#%%\n"
    }
   }
  },
  {
   "cell_type": "code",
   "execution_count": null,
   "outputs": [],
   "source": [
    "def get_model_results():"
   ],
   "metadata": {
    "collapsed": false,
    "pycharm": {
     "name": "#%%\n"
    }
   }
  },
  {
   "cell_type": "code",
   "execution_count": null,
   "outputs": [],
   "source": [],
   "metadata": {
    "collapsed": false,
    "pycharm": {
     "name": "#%%\n"
    }
   }
  },
  {
   "cell_type": "code",
   "execution_count": null,
   "metadata": {},
   "outputs": [],
   "source": []
  },
  {
   "cell_type": "code",
   "execution_count": null,
   "metadata": {},
   "outputs": [],
   "source": []
  },
  {
   "cell_type": "code",
   "execution_count": null,
   "metadata": {},
   "outputs": [],
   "source": []
  },
  {
   "cell_type": "code",
   "execution_count": null,
   "metadata": {},
   "outputs": [],
   "source": []
  }
 ],
 "metadata": {
  "kernelspec": {
   "display_name": "Python 3",
   "language": "python",
   "name": "python3"
  },
  "language_info": {
   "codemirror_mode": {
    "name": "ipython",
    "version": 3
   },
   "file_extension": ".py",
   "mimetype": "text/x-python",
   "name": "python",
   "nbconvert_exporter": "python",
   "pygments_lexer": "ipython3",
   "version": "3.8.3"
  }
 },
 "nbformat": 4,
 "nbformat_minor": 1
}