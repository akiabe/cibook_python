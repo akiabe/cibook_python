{
 "cells": [
  {
   "cell_type": "code",
   "execution_count": 3,
   "metadata": {},
   "outputs": [],
   "source": [
    "import warnings\n",
    "warnings.filterwarnings(\"ignore\")\n",
    "import pandas as pd"
   ]
  },
  {
   "cell_type": "code",
   "execution_count": null,
   "outputs": [],
   "source": [
    "sv1849 = [283,157,192,249,259,226,352,97,111,8,235,92]\n",
    "sv1854 = [371, 161, 148, 362, 244, 237, 282, 59, 171, 9, 240, 174]\n",
    "\n",
    "lsv1849 = [256,267,312,257,318,446,143,193,243,215,544,187,153,81,113,176]\n",
    "lsv1854 = [113,174,270,93,210,388,92,58,117,49,193,303,142,48,165,132]\n",
    "\n",
    "sv_death = sv1849 + sv1854\n",
    "lsv_death = lsv1849 + lsv1854\n",
    "\n",
    "sv_area = [f\"sv_{i}\" for i in range(1, len(sv1849)+1)] + [f\"sv_{i}\" for i in range(1, len(sv1854)+1)]\n",
    "lsv_area = [f\"sv_{i}\" for i in range(1, len(lsv1849)+1)] + [f\"sv_{i}\" for i in range(1, len(lsv1854)+1)]\n",
    "\n",
    "sv_year = [1849 for i in range(0, len(sv1849))] + [1854 for i in range(0, len(sv1854))]\n",
    "lsv_year = [1849 for i in range(0, len(lsv1849))] + [1854 for i in range(0, len(lsv1854))]\n",
    "\n",
    "sv = pd.DataFrame(\n",
    "    {\n",
    "        \"area\": sv_area,\n",
    "        \"year\": sv_year,\n",
    "        \"death\": sv_death,\n",
    "        \"LSV\": 0,\n",
    "        \"company\": \"Southwark and Vauxhall\"\n",
    "    }\n",
    ")\n",
    "\n",
    "lsv = pd.DataFrame(\n",
    "    {\n",
    "        \"area\": lsv_area,\n",
    "        \"year\": lsv_year,\n",
    "        \"death\": lsv_death,\n",
    "        \"LSV\": 1,\n",
    "        \"company\": \"Lambeth & Southwark and Vauxhall\"\n",
    "    }\n",
    ")\n",
    "\n",
    "JS_df = pd.concat(\n",
    "    [sv, lsv], \n",
    "    ignore_index=True\n",
    ")\n",
    "\n",
    "JS_sum = JS_df.groupby(\n",
    "    ['company', 'LSV', 'year'], \n",
    "    as_index=False\n",
    ").death.sum()\n"
   ],
   "metadata": {
    "collapsed": false,
    "pycharm": {
     "name": "#%%\n"
    }
   }
  },
  {
   "cell_type": "code",
   "execution_count": null,
   "outputs": [],
   "source": [
    "JS_df.head(3)"
   ],
   "metadata": {
    "collapsed": false,
    "pycharm": {
     "name": "#%%\n"
    }
   }
  },
  {
   "cell_type": "code",
   "execution_count": null,
   "outputs": [],
   "source": [
    "JS_sum.head(3)"
   ],
   "metadata": {
    "collapsed": false,
    "pycharm": {
     "name": "#%%\n"
    }
   }
  },
  {
   "cell_type": "code",
   "execution_count": null,
   "outputs": [],
   "source": [
    "import seaborn as sns\n",
    "\n",
    "sns.pointplot(\n",
    "    data=JS_sum,\n",
    "    x=\"year\",\n",
    "    y=\"death\",\n",
    "    hue=\"company\",\n",
    ");"
   ],
   "metadata": {
    "collapsed": false,
    "pycharm": {
     "name": "#%%\n"
    }
   }
  },
  {
   "cell_type": "code",
   "execution_count": null,
   "outputs": [],
   "source": [
    "JS_grp_summary = pd.pivot_table(\n",
    "    JS_sum,\n",
    "    index=\"company\",\n",
    "    columns=\"year\",\n",
    "    values=\"death\",\n",
    "    aggfunc=\"sum\"\n",
    ")\n",
    "\n",
    "JS_grp_summary\n"
   ],
   "metadata": {
    "collapsed": false,
    "pycharm": {
     "name": "#%%\n"
    }
   }
  },
  {
   "cell_type": "code",
   "execution_count": null,
   "outputs": [],
   "source": [
    "JS_grp_summary.columns"
   ],
   "metadata": {
    "collapsed": false,
    "pycharm": {
     "name": "#%%\n"
    }
   }
  },
  {
   "cell_type": "code",
   "execution_count": null,
   "outputs": [],
   "source": [
    "JS_grp_summary[\"gap\"] = JS_grp_summary[1854] - JS_grp_summary[1849]\n",
    "JS_grp_summary[\"gap_rate\"] = JS_grp_summary[1854]/JS_grp_summary[1849] - 1"
   ],
   "metadata": {
    "collapsed": false,
    "pycharm": {
     "name": "#%%\n"
    }
   }
  },
  {
   "cell_type": "code",
   "execution_count": null,
   "outputs": [],
   "source": [
    "JS_grp_summary"
   ],
   "metadata": {
    "collapsed": false,
    "pycharm": {
     "name": "#%%\n"
    }
   }
  },
  {
   "cell_type": "code",
   "execution_count": null,
   "outputs": [],
   "source": [
    "import statsmodels.api as sm\n",
    "import statsmodels.formula.api as smf"
   ],
   "metadata": {
    "collapsed": false,
    "pycharm": {
     "name": "#%%\n"
    }
   }
  },
  {
   "cell_type": "code",
   "execution_count": null,
   "outputs": [],
   "source": [
    "JS_sum"
   ],
   "metadata": {
    "collapsed": false,
    "pycharm": {
     "name": "#%%\n"
    }
   }
  },
  {
   "cell_type": "code",
   "execution_count": null,
   "outputs": [],
   "source": [
    "JS_sum[\"D1854\"] = JS_sum[\"year\"].apply(\n",
    "    lambda x: 1 if x == 1854 else 0\n",
    ")\n",
    "\n",
    "JS_sum[\"D1854_LSV\"] = JS_sum[\"D1854\"] * JS_sum[\"LSV\"]\n",
    "\n",
    "JS_sum"
   ],
   "metadata": {
    "collapsed": false,
    "pycharm": {
     "name": "#%%\n"
    }
   }
  },
  {
   "cell_type": "code",
   "execution_count": null,
   "outputs": [],
   "source": [
    "JS_did = smf.ols(\n",
    "    formula=\"death ~ LSV + D1854 + D1854_LSV\",\n",
    "    data=JS_sum\n",
    ").fit()\n"
   ],
   "metadata": {
    "collapsed": false,
    "pycharm": {
     "name": "#%%\n"
    }
   }
  },
  {
   "cell_type": "code",
   "execution_count": null,
   "outputs": [],
   "source": [
    "JS_did.summary().tables[1]"
   ],
   "metadata": {
    "collapsed": false,
    "pycharm": {
     "name": "#%%\n"
    }
   }
  },
  {
   "cell_type": "code",
   "execution_count": null,
   "outputs": [],
   "source": [
    "JS_df.head()"
   ],
   "metadata": {
    "collapsed": false,
    "pycharm": {
     "name": "#%%\n"
    }
   }
  },
  {
   "cell_type": "code",
   "execution_count": null,
   "outputs": [],
   "source": [
    "JS_df[\"D1854\"] = JS_df[\"year\"].apply(\n",
    "    lambda x: 1 if x == 1854 else 0\n",
    ")\n",
    "\n",
    "JS_df[\"D1854_LSV\"] = JS_df[\"D1854\"] * JS_df[\"LSV\"]\n",
    "\n",
    "JS_df.head()"
   ],
   "metadata": {
    "collapsed": false,
    "pycharm": {
     "name": "#%%\n"
    }
   }
  },
  {
   "cell_type": "code",
   "execution_count": null,
   "outputs": [],
   "source": [
    "JS_did_area = smf.ols(\n",
    "    formula=\"death ~ LSV + D1854 + D1854_LSV + area\",\n",
    "    data=JS_df\n",
    ").fit()\n"
   ],
   "metadata": {
    "collapsed": false,
    "pycharm": {
     "name": "#%%\n"
    }
   }
  },
  {
   "cell_type": "code",
   "execution_count": null,
   "outputs": [],
   "source": [
    "JS_did_area.summary().tables[1]"
   ],
   "metadata": {
    "collapsed": false,
    "pycharm": {
     "name": "#%%\n"
    }
   }
  },
  {
   "cell_type": "code",
   "execution_count": null,
   "outputs": [],
   "source": [
    "import numpy as np\n",
    "\n",
    "JS_df[\"log_death\"] = np.log(JS_df['death'])\n",
    "\n",
    "JS_df.head(3)"
   ],
   "metadata": {
    "collapsed": false,
    "pycharm": {
     "name": "#%%\n"
    }
   }
  },
  {
   "cell_type": "code",
   "execution_count": null,
   "outputs": [],
   "source": [
    "JS_did_area_log = smf.ols(\n",
    "    formula=\"log_death ~ LSV + D1854 + D1854_LSV + area\",\n",
    "    data=JS_df\n",
    ").fit()\n",
    "\n",
    "JS_did_area_log.summary().tables[1]"
   ],
   "metadata": {
    "collapsed": false,
    "pycharm": {
     "name": "#%%\n"
    }
   }
  },
  {
   "cell_type": "code",
   "execution_count": 7,
   "metadata": {
    "pycharm": {
     "name": "#%%\n"
    }
   },
   "outputs": [],
   "source": []
  },
  {
   "cell_type": "code",
   "execution_count": 8,
   "metadata": {},
   "outputs": [
    {
     "data": {
      "text/html": [
       "<div>\n",
       "<style scoped>\n",
       "    .dataframe tbody tr th:only-of-type {\n",
       "        vertical-align: middle;\n",
       "    }\n",
       "\n",
       "    .dataframe tbody tr th {\n",
       "        vertical-align: top;\n",
       "    }\n",
       "\n",
       "    .dataframe thead th {\n",
       "        text-align: right;\n",
       "    }\n",
       "</style>\n",
       "<table border=\"1\" class=\"dataframe\">\n",
       "  <thead>\n",
       "    <tr style=\"text-align: right;\">\n",
       "      <th></th>\n",
       "      <th>area</th>\n",
       "      <th>year</th>\n",
       "      <th>death</th>\n",
       "      <th>LSV</th>\n",
       "      <th>company</th>\n",
       "    </tr>\n",
       "  </thead>\n",
       "  <tbody>\n",
       "    <tr>\n",
       "      <th>0</th>\n",
       "      <td>sv_1</td>\n",
       "      <td>1849</td>\n",
       "      <td>283</td>\n",
       "      <td>0</td>\n",
       "      <td>Southwark and Vauxhall</td>\n",
       "    </tr>\n",
       "    <tr>\n",
       "      <th>1</th>\n",
       "      <td>sv_2</td>\n",
       "      <td>1849</td>\n",
       "      <td>157</td>\n",
       "      <td>0</td>\n",
       "      <td>Southwark and Vauxhall</td>\n",
       "    </tr>\n",
       "    <tr>\n",
       "      <th>2</th>\n",
       "      <td>sv_3</td>\n",
       "      <td>1849</td>\n",
       "      <td>192</td>\n",
       "      <td>0</td>\n",
       "      <td>Southwark and Vauxhall</td>\n",
       "    </tr>\n",
       "  </tbody>\n",
       "</table>\n",
       "</div>"
      ],
      "text/plain": [
       "   area  year  death  LSV                 company\n",
       "0  sv_1  1849    283    0  Southwark and Vauxhall\n",
       "1  sv_2  1849    157    0  Southwark and Vauxhall\n",
       "2  sv_3  1849    192    0  Southwark and Vauxhall"
      ]
     },
     "execution_count": 8,
     "metadata": {},
     "output_type": "execute_result"
    }
   ],
   "source": [
    "JS_df.head(3)"
   ]
  },
  {
   "cell_type": "code",
   "execution_count": 9,
   "metadata": {},
   "outputs": [
    {
     "data": {
      "text/html": [
       "<div>\n",
       "<style scoped>\n",
       "    .dataframe tbody tr th:only-of-type {\n",
       "        vertical-align: middle;\n",
       "    }\n",
       "\n",
       "    .dataframe tbody tr th {\n",
       "        vertical-align: top;\n",
       "    }\n",
       "\n",
       "    .dataframe thead th {\n",
       "        text-align: right;\n",
       "    }\n",
       "</style>\n",
       "<table border=\"1\" class=\"dataframe\">\n",
       "  <thead>\n",
       "    <tr style=\"text-align: right;\">\n",
       "      <th></th>\n",
       "      <th>company</th>\n",
       "      <th>LSV</th>\n",
       "      <th>year</th>\n",
       "      <th>death</th>\n",
       "    </tr>\n",
       "  </thead>\n",
       "  <tbody>\n",
       "    <tr>\n",
       "      <th>0</th>\n",
       "      <td>Lambeth &amp; Southwark and Vauxhall</td>\n",
       "      <td>1</td>\n",
       "      <td>1849</td>\n",
       "      <td>3904</td>\n",
       "    </tr>\n",
       "    <tr>\n",
       "      <th>1</th>\n",
       "      <td>Lambeth &amp; Southwark and Vauxhall</td>\n",
       "      <td>1</td>\n",
       "      <td>1854</td>\n",
       "      <td>2547</td>\n",
       "    </tr>\n",
       "    <tr>\n",
       "      <th>2</th>\n",
       "      <td>Southwark and Vauxhall</td>\n",
       "      <td>0</td>\n",
       "      <td>1849</td>\n",
       "      <td>2261</td>\n",
       "    </tr>\n",
       "  </tbody>\n",
       "</table>\n",
       "</div>"
      ],
      "text/plain": [
       "                            company  LSV  year  death\n",
       "0  Lambeth & Southwark and Vauxhall    1  1849   3904\n",
       "1  Lambeth & Southwark and Vauxhall    1  1854   2547\n",
       "2            Southwark and Vauxhall    0  1849   2261"
      ]
     },
     "execution_count": 9,
     "metadata": {},
     "output_type": "execute_result"
    }
   ],
   "source": [
    "JS_sum.head(3)"
   ]
  },
  {
   "cell_type": "code",
   "execution_count": 21,
   "metadata": {},
   "outputs": [
    {
     "data": {
      "image/png": "[encoded data removed]",
      "text/plain": [
       "<Figure size 432x288 with 1 Axes>"
      ]
     },
     "metadata": {
      "needs_background": "light"
     },
     "output_type": "display_data"
    }
   ],
   "source": [
    "import seaborn as sns\n",
    "\n",
    "sns.pointplot(\n",
    "    data=JS_sum,\n",
    "    x=\"year\",\n",
    "    y=\"death\",\n",
    "    hue=\"company\",\n",
    ");"
   ]
  },
  {
   "cell_type": "code",
   "execution_count": 28,
   "metadata": {},
   "outputs": [
    {
     "data": {
      "text/html": [
       "<div>\n",
       "<style scoped>\n",
       "    .dataframe tbody tr th:only-of-type {\n",
       "        vertical-align: middle;\n",
       "    }\n",
       "\n",
       "    .dataframe tbody tr th {\n",
       "        vertical-align: top;\n",
       "    }\n",
       "\n",
       "    .dataframe thead th {\n",
       "        text-align: right;\n",
       "    }\n",
       "</style>\n",
       "<table border=\"1\" class=\"dataframe\">\n",
       "  <thead>\n",
       "    <tr style=\"text-align: right;\">\n",
       "      <th>year</th>\n",
       "      <th>1849</th>\n",
       "      <th>1854</th>\n",
       "    </tr>\n",
       "    <tr>\n",
       "      <th>company</th>\n",
       "      <th></th>\n",
       "      <th></th>\n",
       "    </tr>\n",
       "  </thead>\n",
       "  <tbody>\n",
       "    <tr>\n",
       "      <th>Lambeth &amp; Southwark and Vauxhall</th>\n",
       "      <td>3904</td>\n",
       "      <td>2547</td>\n",
       "    </tr>\n",
       "    <tr>\n",
       "      <th>Southwark and Vauxhall</th>\n",
       "      <td>2261</td>\n",
       "      <td>2458</td>\n",
       "    </tr>\n",
       "  </tbody>\n",
       "</table>\n",
       "</div>"
      ],
      "text/plain": [
       "year                              1849  1854\n",
       "company                                     \n",
       "Lambeth & Southwark and Vauxhall  3904  2547\n",
       "Southwark and Vauxhall            2261  2458"
      ]
     },
     "execution_count": 28,
     "metadata": {},
     "output_type": "execute_result"
    }
   ],
   "source": [
    "JS_grp_summary = pd.pivot_table(\n",
    "    JS_sum,\n",
    "    index=\"company\",\n",
    "    columns=\"year\",\n",
    "    values=\"death\",\n",
    "    aggfunc=\"sum\"\n",
    ")\n",
    "\n",
    "JS_grp_summary\n"
   ]
  },
  {
   "cell_type": "code",
   "execution_count": 29,
   "metadata": {},
   "outputs": [
    {
     "data": {
      "text/plain": [
       "Int64Index([1849, 1854], dtype='int64', name='year')"
      ]
     },
     "execution_count": 29,
     "metadata": {},
     "output_type": "execute_result"
    }
   ],
   "source": [
    "JS_grp_summary.columns"
   ]
  },
  {
   "cell_type": "code",
   "execution_count": 32,
   "metadata": {},
   "outputs": [],
   "source": [
    "JS_grp_summary[\"gap\"] = JS_grp_summary[1854] - JS_grp_summary[1849]\n",
    "JS_grp_summary[\"gap_rate\"] = JS_grp_summary[1854]/JS_grp_summary[1849] - 1"
   ]
  },
  {
   "cell_type": "code",
   "execution_count": 33,
   "metadata": {},
   "outputs": [
    {
     "data": {
      "text/html": [
       "<div>\n",
       "<style scoped>\n",
       "    .dataframe tbody tr th:only-of-type {\n",
       "        vertical-align: middle;\n",
       "    }\n",
       "\n",
       "    .dataframe tbody tr th {\n",
       "        vertical-align: top;\n",
       "    }\n",
       "\n",
       "    .dataframe thead th {\n",
       "        text-align: right;\n",
       "    }\n",
       "</style>\n",
       "<table border=\"1\" class=\"dataframe\">\n",
       "  <thead>\n",
       "    <tr style=\"text-align: right;\">\n",
       "      <th>year</th>\n",
       "      <th>1849</th>\n",
       "      <th>1854</th>\n",
       "      <th>gap</th>\n",
       "      <th>gap_rate</th>\n",
       "    </tr>\n",
       "    <tr>\n",
       "      <th>company</th>\n",
       "      <th></th>\n",
       "      <th></th>\n",
       "      <th></th>\n",
       "      <th></th>\n",
       "    </tr>\n",
       "  </thead>\n",
       "  <tbody>\n",
       "    <tr>\n",
       "      <th>Lambeth &amp; Southwark and Vauxhall</th>\n",
       "      <td>3904</td>\n",
       "      <td>2547</td>\n",
       "      <td>-1357</td>\n",
       "      <td>-0.347592</td>\n",
       "    </tr>\n",
       "    <tr>\n",
       "      <th>Southwark and Vauxhall</th>\n",
       "      <td>2261</td>\n",
       "      <td>2458</td>\n",
       "      <td>197</td>\n",
       "      <td>0.087130</td>\n",
       "    </tr>\n",
       "  </tbody>\n",
       "</table>\n",
       "</div>"
      ],
      "text/plain": [
       "year                              1849  1854   gap  gap_rate\n",
       "company                                                     \n",
       "Lambeth & Southwark and Vauxhall  3904  2547 -1357 -0.347592\n",
       "Southwark and Vauxhall            2261  2458   197  0.087130"
      ]
     },
     "execution_count": 33,
     "metadata": {},
     "output_type": "execute_result"
    }
   ],
   "source": [
    "JS_grp_summary"
   ]
  },
  {
   "cell_type": "code",
   "execution_count": 35,
   "metadata": {},
   "outputs": [],
   "source": [
    "import statsmodels.api as sm\n",
    "import statsmodels.formula.api as smf"
   ]
  },
  {
   "cell_type": "code",
   "execution_count": 36,
   "metadata": {},
   "outputs": [
    {
     "data": {
      "text/html": [
       "<div>\n",
       "<style scoped>\n",
       "    .dataframe tbody tr th:only-of-type {\n",
       "        vertical-align: middle;\n",
       "    }\n",
       "\n",
       "    .dataframe tbody tr th {\n",
       "        vertical-align: top;\n",
       "    }\n",
       "\n",
       "    .dataframe thead th {\n",
       "        text-align: right;\n",
       "    }\n",
       "</style>\n",
       "<table border=\"1\" class=\"dataframe\">\n",
       "  <thead>\n",
       "    <tr style=\"text-align: right;\">\n",
       "      <th></th>\n",
       "      <th>company</th>\n",
       "      <th>LSV</th>\n",
       "      <th>year</th>\n",
       "      <th>death</th>\n",
       "    </tr>\n",
       "  </thead>\n",
       "  <tbody>\n",
       "    <tr>\n",
       "      <th>0</th>\n",
       "      <td>Lambeth &amp; Southwark and Vauxhall</td>\n",
       "      <td>1</td>\n",
       "      <td>1849</td>\n",
       "      <td>3904</td>\n",
       "    </tr>\n",
       "    <tr>\n",
       "      <th>1</th>\n",
       "      <td>Lambeth &amp; Southwark and Vauxhall</td>\n",
       "      <td>1</td>\n",
       "      <td>1854</td>\n",
       "      <td>2547</td>\n",
       "    </tr>\n",
       "    <tr>\n",
       "      <th>2</th>\n",
       "      <td>Southwark and Vauxhall</td>\n",
       "      <td>0</td>\n",
       "      <td>1849</td>\n",
       "      <td>2261</td>\n",
       "    </tr>\n",
       "    <tr>\n",
       "      <th>3</th>\n",
       "      <td>Southwark and Vauxhall</td>\n",
       "      <td>0</td>\n",
       "      <td>1854</td>\n",
       "      <td>2458</td>\n",
       "    </tr>\n",
       "  </tbody>\n",
       "</table>\n",
       "</div>"
      ],
      "text/plain": [
       "                            company  LSV  year  death\n",
       "0  Lambeth & Southwark and Vauxhall    1  1849   3904\n",
       "1  Lambeth & Southwark and Vauxhall    1  1854   2547\n",
       "2            Southwark and Vauxhall    0  1849   2261\n",
       "3            Southwark and Vauxhall    0  1854   2458"
      ]
     },
     "execution_count": 36,
     "metadata": {},
     "output_type": "execute_result"
    }
   ],
   "source": [
    "JS_sum"
   ]
  },
  {
   "cell_type": "code",
   "execution_count": 44,
   "metadata": {},
   "outputs": [
    {
     "data": {
      "text/html": [
       "<div>\n",
       "<style scoped>\n",
       "    .dataframe tbody tr th:only-of-type {\n",
       "        vertical-align: middle;\n",
       "    }\n",
       "\n",
       "    .dataframe tbody tr th {\n",
       "        vertical-align: top;\n",
       "    }\n",
       "\n",
       "    .dataframe thead th {\n",
       "        text-align: right;\n",
       "    }\n",
       "</style>\n",
       "<table border=\"1\" class=\"dataframe\">\n",
       "  <thead>\n",
       "    <tr style=\"text-align: right;\">\n",
       "      <th></th>\n",
       "      <th>company</th>\n",
       "      <th>LSV</th>\n",
       "      <th>year</th>\n",
       "      <th>death</th>\n",
       "      <th>D1854</th>\n",
       "      <th>D1854_LSV</th>\n",
       "    </tr>\n",
       "  </thead>\n",
       "  <tbody>\n",
       "    <tr>\n",
       "      <th>0</th>\n",
       "      <td>Lambeth &amp; Southwark and Vauxhall</td>\n",
       "      <td>1</td>\n",
       "      <td>1849</td>\n",
       "      <td>3904</td>\n",
       "      <td>0</td>\n",
       "      <td>0</td>\n",
       "    </tr>\n",
       "    <tr>\n",
       "      <th>1</th>\n",
       "      <td>Lambeth &amp; Southwark and Vauxhall</td>\n",
       "      <td>1</td>\n",
       "      <td>1854</td>\n",
       "      <td>2547</td>\n",
       "      <td>1</td>\n",
       "      <td>1</td>\n",
       "    </tr>\n",
       "    <tr>\n",
       "      <th>2</th>\n",
       "      <td>Southwark and Vauxhall</td>\n",
       "      <td>0</td>\n",
       "      <td>1849</td>\n",
       "      <td>2261</td>\n",
       "      <td>0</td>\n",
       "      <td>0</td>\n",
       "    </tr>\n",
       "    <tr>\n",
       "      <th>3</th>\n",
       "      <td>Southwark and Vauxhall</td>\n",
       "      <td>0</td>\n",
       "      <td>1854</td>\n",
       "      <td>2458</td>\n",
       "      <td>1</td>\n",
       "      <td>0</td>\n",
       "    </tr>\n",
       "  </tbody>\n",
       "</table>\n",
       "</div>"
      ],
      "text/plain": [
       "                            company  LSV  year  death  D1854  D1854_LSV\n",
       "0  Lambeth & Southwark and Vauxhall    1  1849   3904      0          0\n",
       "1  Lambeth & Southwark and Vauxhall    1  1854   2547      1          1\n",
       "2            Southwark and Vauxhall    0  1849   2261      0          0\n",
       "3            Southwark and Vauxhall    0  1854   2458      1          0"
      ]
     },
     "execution_count": 44,
     "metadata": {},
     "output_type": "execute_result"
    }
   ],
   "source": [
    "JS_sum[\"D1854\"] = JS_sum[\"year\"].apply(\n",
    "    lambda x: 1 if x == 1854 else 0\n",
    ")\n",
    "\n",
    "JS_sum[\"D1854_LSV\"] = JS_sum[\"D1854\"] * JS_sum[\"LSV\"]\n",
    "\n",
    "JS_sum"
   ]
  },
  {
   "cell_type": "code",
   "execution_count": 47,
   "metadata": {},
   "outputs": [],
   "source": [
    "JS_did = smf.ols(\n",
    "    formula=\"death ~ LSV + D1854 + D1854_LSV\",\n",
    "    data=JS_sum\n",
    ").fit()\n"
   ]
  },
  {
   "cell_type": "code",
   "execution_count": 49,
   "metadata": {},
   "outputs": [
    {
     "name": "stderr",
     "output_type": "stream",
     "text": [
      "/Users/akifumiabe/.conda/envs/cat-in-the-dat-ii/lib/python3.8/site-packages/statsmodels/stats/stattools.py:74: ValueWarning: omni_normtest is not valid with less than 8 observations; 4 samples were given.\n",
      "  warn(\"omni_normtest is not valid with less than 8 observations; %i \"\n"
     ]
    },
    {
     "data": {
      "text/html": [
       "<table class=\"simpletable\">\n",
       "<tr>\n",
       "      <td></td>         <th>coef</th>     <th>std err</th>      <th>t</th>      <th>P>|t|</th>  <th>[0.025</th>    <th>0.975]</th>  \n",
       "</tr>\n",
       "<tr>\n",
       "  <th>Intercept</th> <td> 2261.0000</td> <td>      inf</td> <td>        0</td> <td>   nan</td> <td>      nan</td> <td>      nan</td>\n",
       "</tr>\n",
       "<tr>\n",
       "  <th>LSV</th>       <td> 1643.0000</td> <td>      inf</td> <td>        0</td> <td>   nan</td> <td>      nan</td> <td>      nan</td>\n",
       "</tr>\n",
       "<tr>\n",
       "  <th>D1854</th>     <td>  197.0000</td> <td>      inf</td> <td>        0</td> <td>   nan</td> <td>      nan</td> <td>      nan</td>\n",
       "</tr>\n",
       "<tr>\n",
       "  <th>D1854_LSV</th> <td>-1554.0000</td> <td>      inf</td> <td>       -0</td> <td>   nan</td> <td>      nan</td> <td>      nan</td>\n",
       "</tr>\n",
       "</table>"
      ],
      "text/plain": [
       "<class 'statsmodels.iolib.table.SimpleTable'>"
      ]
     },
     "execution_count": 49,
     "metadata": {},
     "output_type": "execute_result"
    }
   ],
   "source": [
    "JS_did.summary().tables[1]"
   ]
  },
  {
   "cell_type": "code",
   "execution_count": 52,
   "metadata": {},
   "outputs": [
    {
     "data": {
      "text/html": [
       "<div>\n",
       "<style scoped>\n",
       "    .dataframe tbody tr th:only-of-type {\n",
       "        vertical-align: middle;\n",
       "    }\n",
       "\n",
       "    .dataframe tbody tr th {\n",
       "        vertical-align: top;\n",
       "    }\n",
       "\n",
       "    .dataframe thead th {\n",
       "        text-align: right;\n",
       "    }\n",
       "</style>\n",
       "<table border=\"1\" class=\"dataframe\">\n",
       "  <thead>\n",
       "    <tr style=\"text-align: right;\">\n",
       "      <th></th>\n",
       "      <th>area</th>\n",
       "      <th>year</th>\n",
       "      <th>death</th>\n",
       "      <th>LSV</th>\n",
       "      <th>company</th>\n",
       "    </tr>\n",
       "  </thead>\n",
       "  <tbody>\n",
       "    <tr>\n",
       "      <th>0</th>\n",
       "      <td>sv_1</td>\n",
       "      <td>1849</td>\n",
       "      <td>283</td>\n",
       "      <td>0</td>\n",
       "      <td>Southwark and Vauxhall</td>\n",
       "    </tr>\n",
       "    <tr>\n",
       "      <th>1</th>\n",
       "      <td>sv_2</td>\n",
       "      <td>1849</td>\n",
       "      <td>157</td>\n",
       "      <td>0</td>\n",
       "      <td>Southwark and Vauxhall</td>\n",
       "    </tr>\n",
       "    <tr>\n",
       "      <th>2</th>\n",
       "      <td>sv_3</td>\n",
       "      <td>1849</td>\n",
       "      <td>192</td>\n",
       "      <td>0</td>\n",
       "      <td>Southwark and Vauxhall</td>\n",
       "    </tr>\n",
       "    <tr>\n",
       "      <th>3</th>\n",
       "      <td>sv_4</td>\n",
       "      <td>1849</td>\n",
       "      <td>249</td>\n",
       "      <td>0</td>\n",
       "      <td>Southwark and Vauxhall</td>\n",
       "    </tr>\n",
       "    <tr>\n",
       "      <th>4</th>\n",
       "      <td>sv_5</td>\n",
       "      <td>1849</td>\n",
       "      <td>259</td>\n",
       "      <td>0</td>\n",
       "      <td>Southwark and Vauxhall</td>\n",
       "    </tr>\n",
       "  </tbody>\n",
       "</table>\n",
       "</div>"
      ],
      "text/plain": [
       "   area  year  death  LSV                 company\n",
       "0  sv_1  1849    283    0  Southwark and Vauxhall\n",
       "1  sv_2  1849    157    0  Southwark and Vauxhall\n",
       "2  sv_3  1849    192    0  Southwark and Vauxhall\n",
       "3  sv_4  1849    249    0  Southwark and Vauxhall\n",
       "4  sv_5  1849    259    0  Southwark and Vauxhall"
      ]
     },
     "execution_count": 52,
     "metadata": {},
     "output_type": "execute_result"
    }
   ],
   "source": [
    "JS_df.head()"
   ]
  },
  {
   "cell_type": "code",
   "execution_count": 54,
   "metadata": {},
   "outputs": [
    {
     "data": {
      "text/html": [
       "<div>\n",
       "<style scoped>\n",
       "    .dataframe tbody tr th:only-of-type {\n",
       "        vertical-align: middle;\n",
       "    }\n",
       "\n",
       "    .dataframe tbody tr th {\n",
       "        vertical-align: top;\n",
       "    }\n",
       "\n",
       "    .dataframe thead th {\n",
       "        text-align: right;\n",
       "    }\n",
       "</style>\n",
       "<table border=\"1\" class=\"dataframe\">\n",
       "  <thead>\n",
       "    <tr style=\"text-align: right;\">\n",
       "      <th></th>\n",
       "      <th>area</th>\n",
       "      <th>year</th>\n",
       "      <th>death</th>\n",
       "      <th>LSV</th>\n",
       "      <th>company</th>\n",
       "      <th>D1854</th>\n",
       "      <th>D1854_LSV</th>\n",
       "    </tr>\n",
       "  </thead>\n",
       "  <tbody>\n",
       "    <tr>\n",
       "      <th>0</th>\n",
       "      <td>sv_1</td>\n",
       "      <td>1849</td>\n",
       "      <td>283</td>\n",
       "      <td>0</td>\n",
       "      <td>Southwark and Vauxhall</td>\n",
       "      <td>0</td>\n",
       "      <td>0</td>\n",
       "    </tr>\n",
       "    <tr>\n",
       "      <th>1</th>\n",
       "      <td>sv_2</td>\n",
       "      <td>1849</td>\n",
       "      <td>157</td>\n",
       "      <td>0</td>\n",
       "      <td>Southwark and Vauxhall</td>\n",
       "      <td>0</td>\n",
       "      <td>0</td>\n",
       "    </tr>\n",
       "    <tr>\n",
       "      <th>2</th>\n",
       "      <td>sv_3</td>\n",
       "      <td>1849</td>\n",
       "      <td>192</td>\n",
       "      <td>0</td>\n",
       "      <td>Southwark and Vauxhall</td>\n",
       "      <td>0</td>\n",
       "      <td>0</td>\n",
       "    </tr>\n",
       "    <tr>\n",
       "      <th>3</th>\n",
       "      <td>sv_4</td>\n",
       "      <td>1849</td>\n",
       "      <td>249</td>\n",
       "      <td>0</td>\n",
       "      <td>Southwark and Vauxhall</td>\n",
       "      <td>0</td>\n",
       "      <td>0</td>\n",
       "    </tr>\n",
       "    <tr>\n",
       "      <th>4</th>\n",
       "      <td>sv_5</td>\n",
       "      <td>1849</td>\n",
       "      <td>259</td>\n",
       "      <td>0</td>\n",
       "      <td>Southwark and Vauxhall</td>\n",
       "      <td>0</td>\n",
       "      <td>0</td>\n",
       "    </tr>\n",
       "  </tbody>\n",
       "</table>\n",
       "</div>"
      ],
      "text/plain": [
       "   area  year  death  LSV                 company  D1854  D1854_LSV\n",
       "0  sv_1  1849    283    0  Southwark and Vauxhall      0          0\n",
       "1  sv_2  1849    157    0  Southwark and Vauxhall      0          0\n",
       "2  sv_3  1849    192    0  Southwark and Vauxhall      0          0\n",
       "3  sv_4  1849    249    0  Southwark and Vauxhall      0          0\n",
       "4  sv_5  1849    259    0  Southwark and Vauxhall      0          0"
      ]
     },
     "execution_count": 54,
     "metadata": {},
     "output_type": "execute_result"
    }
   ],
   "source": [
    "JS_df[\"D1854\"] = JS_df[\"year\"].apply(\n",
    "    lambda x: 1 if x == 1854 else 0\n",
    ")\n",
    "\n",
    "JS_df[\"D1854_LSV\"] = JS_df[\"D1854\"] * JS_df[\"LSV\"]\n",
    "\n",
    "JS_df.head()"
   ]
  },
  {
   "cell_type": "code",
   "execution_count": 56,
   "metadata": {},
   "outputs": [],
   "source": [
    "JS_did_area = smf.ols(\n",
    "    formula=\"death ~ LSV + D1854 + D1854_LSV + area\",\n",
    "    data=JS_df\n",
    ").fit()\n"
   ]
  },
  {
   "cell_type": "code",
   "execution_count": 57,
   "metadata": {},
   "outputs": [
    {
     "data": {
      "text/html": [
       "<table class=\"simpletable\">\n",
       "<tr>\n",
       "        <td></td>           <th>coef</th>     <th>std err</th>      <th>t</th>      <th>P>|t|</th>  <th>[0.025</th>    <th>0.975]</th>  \n",
       "</tr>\n",
       "<tr>\n",
       "  <th>Intercept</th>     <td>  232.5000</td> <td>   47.609</td> <td>    4.884</td> <td> 0.000</td> <td>  136.035</td> <td>  328.965</td>\n",
       "</tr>\n",
       "<tr>\n",
       "  <th>area[T.sv_10]</th> <td> -185.5000</td> <td>   60.221</td> <td>   -3.080</td> <td> 0.004</td> <td> -307.519</td> <td>  -63.481</td>\n",
       "</tr>\n",
       "<tr>\n",
       "  <th>area[T.sv_11]</th> <td>   47.2500</td> <td>   60.221</td> <td>    0.785</td> <td> 0.438</td> <td>  -74.769</td> <td>  169.269</td>\n",
       "</tr>\n",
       "<tr>\n",
       "  <th>area[T.sv_12]</th> <td>  -66.7500</td> <td>   60.221</td> <td>   -1.108</td> <td> 0.275</td> <td> -188.769</td> <td>   55.269</td>\n",
       "</tr>\n",
       "<tr>\n",
       "  <th>area[T.sv_13]</th> <td> -123.2917</td> <td>   74.773</td> <td>   -1.649</td> <td> 0.108</td> <td> -274.796</td> <td>   28.212</td>\n",
       "</tr>\n",
       "<tr>\n",
       "  <th>area[T.sv_14]</th> <td> -206.2917</td> <td>   74.773</td> <td>   -2.759</td> <td> 0.009</td> <td> -357.796</td> <td>  -54.788</td>\n",
       "</tr>\n",
       "<tr>\n",
       "  <th>area[T.sv_15]</th> <td> -131.7917</td> <td>   74.773</td> <td>   -1.763</td> <td> 0.086</td> <td> -283.296</td> <td>   19.712</td>\n",
       "</tr>\n",
       "<tr>\n",
       "  <th>area[T.sv_16]</th> <td> -116.7917</td> <td>   74.773</td> <td>   -1.562</td> <td> 0.127</td> <td> -268.296</td> <td>   34.712</td>\n",
       "</tr>\n",
       "<tr>\n",
       "  <th>area[T.sv_2]</th>  <td>  -66.0000</td> <td>   60.221</td> <td>   -1.096</td> <td> 0.280</td> <td> -188.019</td> <td>   56.019</td>\n",
       "</tr>\n",
       "<tr>\n",
       "  <th>area[T.sv_3]</th>  <td>  -25.2500</td> <td>   60.221</td> <td>   -0.419</td> <td> 0.677</td> <td> -147.269</td> <td>   96.769</td>\n",
       "</tr>\n",
       "<tr>\n",
       "  <th>area[T.sv_4]</th>  <td>  -15.5000</td> <td>   60.221</td> <td>   -0.257</td> <td> 0.798</td> <td> -137.519</td> <td>  106.519</td>\n",
       "</tr>\n",
       "<tr>\n",
       "  <th>area[T.sv_5]</th>  <td>    2.0000</td> <td>   60.221</td> <td>    0.033</td> <td> 0.974</td> <td> -120.019</td> <td>  124.019</td>\n",
       "</tr>\n",
       "<tr>\n",
       "  <th>area[T.sv_6]</th>  <td>   68.5000</td> <td>   60.221</td> <td>    1.137</td> <td> 0.263</td> <td>  -53.519</td> <td>  190.519</td>\n",
       "</tr>\n",
       "<tr>\n",
       "  <th>area[T.sv_7]</th>  <td>  -38.5000</td> <td>   60.221</td> <td>   -0.639</td> <td> 0.527</td> <td> -160.519</td> <td>   83.519</td>\n",
       "</tr>\n",
       "<tr>\n",
       "  <th>area[T.sv_8]</th>  <td> -154.0000</td> <td>   60.221</td> <td>   -2.557</td> <td> 0.015</td> <td> -276.019</td> <td>  -31.981</td>\n",
       "</tr>\n",
       "<tr>\n",
       "  <th>area[T.sv_9]</th>  <td>  -95.2500</td> <td>   60.221</td> <td>   -1.582</td> <td> 0.122</td> <td> -217.269</td> <td>   26.769</td>\n",
       "</tr>\n",
       "<tr>\n",
       "  <th>LSV</th>           <td>   80.6979</td> <td>   33.665</td> <td>    2.397</td> <td> 0.022</td> <td>   12.487</td> <td>  148.909</td>\n",
       "</tr>\n",
       "<tr>\n",
       "  <th>D1854</th>         <td>   16.4167</td> <td>   34.769</td> <td>    0.472</td> <td> 0.640</td> <td>  -54.031</td> <td>   86.865</td>\n",
       "</tr>\n",
       "<tr>\n",
       "  <th>D1854_LSV</th>     <td> -101.2292</td> <td>   45.995</td> <td>   -2.201</td> <td> 0.034</td> <td> -194.423</td> <td>   -8.035</td>\n",
       "</tr>\n",
       "</table>"
      ],
      "text/plain": [
       "<class 'statsmodels.iolib.table.SimpleTable'>"
      ]
     },
     "execution_count": 57,
     "metadata": {},
     "output_type": "execute_result"
    }
   ],
   "source": [
    "JS_did_area.summary().tables[1]"
   ]
  },
  {
   "cell_type": "code",
   "execution_count": 58,
   "metadata": {},
   "outputs": [
    {
     "data": {
      "text/html": [
       "<div>\n",
       "<style scoped>\n",
       "    .dataframe tbody tr th:only-of-type {\n",
       "        vertical-align: middle;\n",
       "    }\n",
       "\n",
       "    .dataframe tbody tr th {\n",
       "        vertical-align: top;\n",
       "    }\n",
       "\n",
       "    .dataframe thead th {\n",
       "        text-align: right;\n",
       "    }\n",
       "</style>\n",
       "<table border=\"1\" class=\"dataframe\">\n",
       "  <thead>\n",
       "    <tr style=\"text-align: right;\">\n",
       "      <th></th>\n",
       "      <th>area</th>\n",
       "      <th>year</th>\n",
       "      <th>death</th>\n",
       "      <th>LSV</th>\n",
       "      <th>company</th>\n",
       "      <th>D1854</th>\n",
       "      <th>D1854_LSV</th>\n",
       "      <th>log_death</th>\n",
       "    </tr>\n",
       "  </thead>\n",
       "  <tbody>\n",
       "    <tr>\n",
       "      <th>0</th>\n",
       "      <td>sv_1</td>\n",
       "      <td>1849</td>\n",
       "      <td>283</td>\n",
       "      <td>0</td>\n",
       "      <td>Southwark and Vauxhall</td>\n",
       "      <td>0</td>\n",
       "      <td>0</td>\n",
       "      <td>5.645447</td>\n",
       "    </tr>\n",
       "    <tr>\n",
       "      <th>1</th>\n",
       "      <td>sv_2</td>\n",
       "      <td>1849</td>\n",
       "      <td>157</td>\n",
       "      <td>0</td>\n",
       "      <td>Southwark and Vauxhall</td>\n",
       "      <td>0</td>\n",
       "      <td>0</td>\n",
       "      <td>5.056246</td>\n",
       "    </tr>\n",
       "    <tr>\n",
       "      <th>2</th>\n",
       "      <td>sv_3</td>\n",
       "      <td>1849</td>\n",
       "      <td>192</td>\n",
       "      <td>0</td>\n",
       "      <td>Southwark and Vauxhall</td>\n",
       "      <td>0</td>\n",
       "      <td>0</td>\n",
       "      <td>5.257495</td>\n",
       "    </tr>\n",
       "  </tbody>\n",
       "</table>\n",
       "</div>"
      ],
      "text/plain": [
       "   area  year  death  LSV                 company  D1854  D1854_LSV  log_death\n",
       "0  sv_1  1849    283    0  Southwark and Vauxhall      0          0   5.645447\n",
       "1  sv_2  1849    157    0  Southwark and Vauxhall      0          0   5.056246\n",
       "2  sv_3  1849    192    0  Southwark and Vauxhall      0          0   5.257495"
      ]
     },
     "execution_count": 58,
     "metadata": {},
     "output_type": "execute_result"
    }
   ],
   "source": [
    "import numpy as np\n",
    "\n",
    "JS_df[\"log_death\"] = np.log(JS_df['death'])\n",
    "\n",
    "JS_df.head(3)"
   ]
  },
  {
   "cell_type": "code",
   "execution_count": 60,
   "metadata": {},
   "outputs": [
    {
     "data": {
      "text/html": [
       "<table class=\"simpletable\">\n",
       "<tr>\n",
       "        <td></td>           <th>coef</th>     <th>std err</th>      <th>t</th>      <th>P>|t|</th>  <th>[0.025</th>    <th>0.975]</th>  \n",
       "</tr>\n",
       "<tr>\n",
       "  <th>Intercept</th>     <td>    5.2918</td> <td>    0.311</td> <td>   17.036</td> <td> 0.000</td> <td>    4.662</td> <td>    5.921</td>\n",
       "</tr>\n",
       "<tr>\n",
       "  <th>area[T.sv_10]</th> <td>   -2.0738</td> <td>    0.393</td> <td>   -5.278</td> <td> 0.000</td> <td>   -2.870</td> <td>   -1.278</td>\n",
       "</tr>\n",
       "<tr>\n",
       "  <th>area[T.sv_11]</th> <td>    0.1669</td> <td>    0.393</td> <td>    0.425</td> <td> 0.673</td> <td>   -0.629</td> <td>    0.963</td>\n",
       "</tr>\n",
       "<tr>\n",
       "  <th>area[T.sv_12]</th> <td>   -0.3021</td> <td>    0.393</td> <td>   -0.769</td> <td> 0.447</td> <td>   -1.098</td> <td>    0.494</td>\n",
       "</tr>\n",
       "<tr>\n",
       "  <th>area[T.sv_13]</th> <td>   -0.5953</td> <td>    0.488</td> <td>   -1.220</td> <td> 0.230</td> <td>   -1.584</td> <td>    0.393</td>\n",
       "</tr>\n",
       "<tr>\n",
       "  <th>area[T.sv_14]</th> <td>   -1.4556</td> <td>    0.488</td> <td>   -2.984</td> <td> 0.005</td> <td>   -2.444</td> <td>   -0.467</td>\n",
       "</tr>\n",
       "<tr>\n",
       "  <th>area[T.sv_15]</th> <td>   -0.6717</td> <td>    0.488</td> <td>   -1.377</td> <td> 0.177</td> <td>   -1.660</td> <td>    0.317</td>\n",
       "</tr>\n",
       "<tr>\n",
       "  <th>area[T.sv_16]</th> <td>   -0.5617</td> <td>    0.488</td> <td>   -1.151</td> <td> 0.257</td> <td>   -1.550</td> <td>    0.427</td>\n",
       "</tr>\n",
       "<tr>\n",
       "  <th>area[T.sv_2]</th>  <td>   -0.2376</td> <td>    0.393</td> <td>   -0.605</td> <td> 0.549</td> <td>   -1.034</td> <td>    0.559</td>\n",
       "</tr>\n",
       "<tr>\n",
       "  <th>area[T.sv_3]</th>  <td>   -0.0595</td> <td>    0.393</td> <td>   -0.151</td> <td> 0.880</td> <td>   -0.856</td> <td>    0.737</td>\n",
       "</tr>\n",
       "<tr>\n",
       "  <th>area[T.sv_4]</th>  <td>   -0.0859</td> <td>    0.393</td> <td>   -0.219</td> <td> 0.828</td> <td>   -0.882</td> <td>    0.710</td>\n",
       "</tr>\n",
       "<tr>\n",
       "  <th>area[T.sv_5]</th>  <td>    0.0822</td> <td>    0.393</td> <td>    0.209</td> <td> 0.835</td> <td>   -0.714</td> <td>    0.878</td>\n",
       "</tr>\n",
       "<tr>\n",
       "  <th>area[T.sv_6]</th>  <td>    0.2789</td> <td>    0.393</td> <td>    0.710</td> <td> 0.482</td> <td>   -0.517</td> <td>    1.075</td>\n",
       "</tr>\n",
       "<tr>\n",
       "  <th>area[T.sv_7]</th>  <td>   -0.2110</td> <td>    0.393</td> <td>   -0.537</td> <td> 0.594</td> <td>   -1.007</td> <td>    0.585</td>\n",
       "</tr>\n",
       "<tr>\n",
       "  <th>area[T.sv_8]</th>  <td>   -0.9647</td> <td>    0.393</td> <td>   -2.455</td> <td> 0.019</td> <td>   -1.761</td> <td>   -0.169</td>\n",
       "</tr>\n",
       "<tr>\n",
       "  <th>area[T.sv_9]</th>  <td>   -0.4319</td> <td>    0.393</td> <td>   -1.099</td> <td> 0.279</td> <td>   -1.228</td> <td>    0.364</td>\n",
       "</tr>\n",
       "<tr>\n",
       "  <th>LSV</th>           <td>    0.5427</td> <td>    0.220</td> <td>    2.471</td> <td> 0.018</td> <td>    0.098</td> <td>    0.988</td>\n",
       "</tr>\n",
       "<tr>\n",
       "  <th>D1854</th>         <td>    0.0739</td> <td>    0.227</td> <td>    0.326</td> <td> 0.746</td> <td>   -0.386</td> <td>    0.534</td>\n",
       "</tr>\n",
       "<tr>\n",
       "  <th>D1854_LSV</th>     <td>   -0.5661</td> <td>    0.300</td> <td>   -1.886</td> <td> 0.067</td> <td>   -1.174</td> <td>    0.042</td>\n",
       "</tr>\n",
       "</table>"
      ],
      "text/plain": [
       "<class 'statsmodels.iolib.table.SimpleTable'>"
      ]
     },
     "execution_count": 60,
     "metadata": {},
     "output_type": "execute_result"
    }
   ],
   "source": [
    "JS_did_area_log = smf.ols(\n",
    "    formula=\"log_death ~ LSV + D1854 + D1854_LSV + area\",\n",
    "    data=JS_df\n",
    ").fit()\n",
    "\n",
    "JS_did_area_log.summary().tables[1]"
   ]
  },
  {
   "cell_type": "code",
   "execution_count": null,
   "metadata": {},
   "outputs": [],
   "source": []
  }
 ],
 "metadata": {
  "kernelspec": {
   "display_name": "Python 3",
   "language": "python",
   "name": "python3"
  },
  "language_info": {
   "codemirror_mode": {
    "name": "ipython",
    "version": 3
   },
   "file_extension": ".py",
   "mimetype": "text/x-python",
   "name": "python",
   "nbconvert_exporter": "python",
   "pygments_lexer": "ipython3",
   "version": "3.8.3"
  }
 },
 "nbformat": 4,
 "nbformat_minor": 1
}