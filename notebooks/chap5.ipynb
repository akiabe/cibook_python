{
 "cells": [
  {
   "cell_type": "code",
   "execution_count": 7,
   "metadata": {},
   "outputs": [],
   "source": [
    "import warnings\n",
    "warnings.filterwarnings(\"ignore\")\n",
    "\n",
    "import pandas as pd\n",
    "import numpy as np\n"
   ]
  },
  {
   "cell_type": "code",
   "execution_count": null,
   "outputs": [],
   "source": [
    "email_data = pd.read_csv('http://www.minethatdata.com/Kevin_Hillstrom_MineThatData_E-MailAnalytics_DataMiningChallenge_2008.03.20.csv')\n",
    "\n",
    "email_data.head(3)\n"
   ],
   "metadata": {
    "collapsed": false,
    "pycharm": {
     "name": "#%%\n"
    }
   }
  },
  {
   "cell_type": "code",
   "execution_count": null,
   "outputs": [],
   "source": [
    "male_data = email_data[email_data['segment'] != 'Womens E-Mail']\n",
    "male_data['treatment'] = male_data['segment'].map(lambda x: 1 if x == 'Mens E-Mail' else 0)\n",
    "male_data['history_log'] = np.log(male_data['history'])\n",
    "male_data['history_log_grp'] = np.round(male_data['history_log']/0.1)*0.1\n",
    "male_data.head()"
   ],
   "metadata": {
    "collapsed": false,
    "pycharm": {
     "name": "#%%\n"
    }
   }
  },
  {
   "cell_type": "code",
   "execution_count": null,
   "outputs": [],
   "source": [
    "male_data_groupby = male_data.groupby(['history_log_grp', 'segment'])['visit'].agg(['mean', 'count']).reset_index()\n",
    "male_data_groupby = male_data_groupby.loc[male_data_groupby['count'] > 10]\n",
    "male_data_groupby.head()"
   ],
   "metadata": {
    "collapsed": false,
    "pycharm": {
     "name": "#%%\n"
    }
   }
  },
  {
   "cell_type": "code",
   "execution_count": null,
   "outputs": [],
   "source": [
    "import seaborn as sns\n",
    "\n",
    "sns.scatterplot(\n",
    "    data=male_data_groupby,\n",
    "    x=\"history_log_grp\",\n",
    "    y=\"mean\",\n",
    "    hue=\"segment\",\n",
    "    size=\"count\"\n",
    ");"
   ],
   "metadata": {
    "collapsed": false,
    "pycharm": {
     "name": "#%%\n"
    }
   }
  },
  {
   "cell_type": "code",
   "execution_count": null,
   "outputs": [],
   "source": [
    "threshold_value = 5.5\n",
    "\n",
    "rdd_data = male_data.loc[\n",
    "    ((male_data['history_log'] > threshold_value) & (male_data['segment'] == 'Mens E-Mail')) |\n",
    "    ((male_data['history_log'] <= threshold_value) & (male_data['segment'] == 'No E-Mail'))\n",
    "]\n"
   ],
   "metadata": {
    "collapsed": false,
    "pycharm": {
     "name": "#%%\n"
    }
   }
  },
  {
   "cell_type": "code",
   "execution_count": null,
   "outputs": [],
   "source": [
    "rdd_data_groupby = rdd_data.groupby(['history_log_grp', 'segment'])['visit'].agg(['mean', 'count']).reset_index()\n",
    "rdd_data_groupby = rdd_data_groupby.loc[rdd_data_groupby['count'] > 10]\n",
    "rdd_data_groupby.head()\n"
   ],
   "metadata": {
    "collapsed": false,
    "pycharm": {
     "name": "#%%\n"
    }
   }
  },
  {
   "cell_type": "code",
   "execution_count": null,
   "outputs": [],
   "source": [
    "import matplotlib.pyplot as plt\n",
    "\n",
    "sns.scatterplot(\n",
    "    data=rdd_data_groupby,\n",
    "    x='history_log_grp',\n",
    "    y='mean',\n",
    "    hue='segment',\n",
    "    size='count'\n",
    ");\n",
    "\n",
    "plt.grid()\n",
    "plt.axvline([5.5], color='black', ls=':');\n"
   ],
   "metadata": {
    "collapsed": false,
    "pycharm": {
     "name": "#%%\n"
    }
   }
  },
  {
   "cell_type": "code",
   "execution_count": null,
   "outputs": [],
   "source": [
    "rdd_data.groupby(['treatment'])['visit'].agg(['mean', 'count'])\n"
   ],
   "metadata": {
    "collapsed": false,
    "pycharm": {
     "name": "#%%\n"
    }
   }
  },
  {
   "cell_type": "code",
   "execution_count": null,
   "outputs": [],
   "source": [
    "import statsmodels.api as sm\n",
    "import statsmodels.formula.api as smf\n"
   ],
   "metadata": {
    "collapsed": false,
    "pycharm": {
     "name": "#%%\n"
    }
   }
  },
  {
   "cell_type": "code",
   "execution_count": null,
   "outputs": [],
   "source": [
    "rdd_lm_reg = smf.ols(\n",
    "    data=rdd_data,\n",
    "    formula='visit ~ treatment + history_log'\n",
    ").fit()\n",
    "\n",
    "rdd_lm_reg.summary().tables[1]\n"
   ],
   "metadata": {
    "collapsed": false,
    "pycharm": {
     "name": "#%%\n"
    }
   }
  },
  {
   "cell_type": "code",
   "execution_count": null,
   "outputs": [],
   "source": [
    "for i in range(4):\n",
    "    poly_col_name = 'history_log' + '_' + str(i+1)\n",
    "    interaction_col_name = 'treatment_' + 'history_log' + '_' + str(i+1)\n",
    "    rdd_data[poly_col_name] = (rdd_data['history_log']-threshold_value)**(i+1)\n",
    "    rdd_data[interaction_col_name] = rdd_data[poly_col_name] * rdd_data['treatment']\n",
    "    "
   ],
   "metadata": {
    "collapsed": false,
    "pycharm": {
     "name": "#%%\n"
    }
   }
  },
  {
   "cell_type": "code",
   "execution_count": null,
   "outputs": [],
   "source": [
    "nonlinear_rdd_ord4 = smf.ols(\n",
    "    data=rdd_data,\n",
    "    formula='''\n",
    "        visit ~ treatment + history_log_1 + history_log_2 + history_log_3 + history_log_4 + \n",
    "                treatment_history_log_1 + treatment_history_log_2 + treatment_history_log_3 + treatment_history_log_4\n",
    "    '''\n",
    ").fit()\n",
    "\n",
    "nonlinear_rdd_ord4.summary().tables[1]\n"
   ],
   "metadata": {
    "collapsed": false,
    "pycharm": {
     "name": "#%%\n"
    }
   }
  },
  {
   "cell_type": "code",
   "execution_count": 8,
   "metadata": {
    "pycharm": {
     "name": "#%%\n"
    }
   },
   "outputs": [
    {
     "data": {
      "text/html": [
       "<div>\n",
       "<style scoped>\n",
       "    .dataframe tbody tr th:only-of-type {\n",
       "        vertical-align: middle;\n",
       "    }\n",
       "\n",
       "    .dataframe tbody tr th {\n",
       "        vertical-align: top;\n",
       "    }\n",
       "\n",
       "    .dataframe thead th {\n",
       "        text-align: right;\n",
       "    }\n",
       "</style>\n",
       "<table border=\"1\" class=\"dataframe\">\n",
       "  <thead>\n",
       "    <tr style=\"text-align: right;\">\n",
       "      <th></th>\n",
       "      <th>recency</th>\n",
       "      <th>history_segment</th>\n",
       "      <th>history</th>\n",
       "      <th>mens</th>\n",
       "      <th>womens</th>\n",
       "      <th>zip_code</th>\n",
       "      <th>newbie</th>\n",
       "      <th>channel</th>\n",
       "      <th>segment</th>\n",
       "      <th>visit</th>\n",
       "      <th>conversion</th>\n",
       "      <th>spend</th>\n",
       "    </tr>\n",
       "  </thead>\n",
       "  <tbody>\n",
       "    <tr>\n",
       "      <th>0</th>\n",
       "      <td>10</td>\n",
       "      <td>2) $100 - $200</td>\n",
       "      <td>142.44</td>\n",
       "      <td>1</td>\n",
       "      <td>0</td>\n",
       "      <td>Surburban</td>\n",
       "      <td>0</td>\n",
       "      <td>Phone</td>\n",
       "      <td>Womens E-Mail</td>\n",
       "      <td>0</td>\n",
       "      <td>0</td>\n",
       "      <td>0.0</td>\n",
       "    </tr>\n",
       "    <tr>\n",
       "      <th>1</th>\n",
       "      <td>6</td>\n",
       "      <td>3) $200 - $350</td>\n",
       "      <td>329.08</td>\n",
       "      <td>1</td>\n",
       "      <td>1</td>\n",
       "      <td>Rural</td>\n",
       "      <td>1</td>\n",
       "      <td>Web</td>\n",
       "      <td>No E-Mail</td>\n",
       "      <td>0</td>\n",
       "      <td>0</td>\n",
       "      <td>0.0</td>\n",
       "    </tr>\n",
       "    <tr>\n",
       "      <th>2</th>\n",
       "      <td>7</td>\n",
       "      <td>2) $100 - $200</td>\n",
       "      <td>180.65</td>\n",
       "      <td>0</td>\n",
       "      <td>1</td>\n",
       "      <td>Surburban</td>\n",
       "      <td>1</td>\n",
       "      <td>Web</td>\n",
       "      <td>Womens E-Mail</td>\n",
       "      <td>0</td>\n",
       "      <td>0</td>\n",
       "      <td>0.0</td>\n",
       "    </tr>\n",
       "  </tbody>\n",
       "</table>\n",
       "</div>"
      ],
      "text/plain": [
       "   recency history_segment  history  mens  womens   zip_code  newbie channel  \\\n",
       "0       10  2) $100 - $200   142.44     1       0  Surburban       0   Phone   \n",
       "1        6  3) $200 - $350   329.08     1       1      Rural       1     Web   \n",
       "2        7  2) $100 - $200   180.65     0       1  Surburban       1     Web   \n",
       "\n",
       "         segment  visit  conversion  spend  \n",
       "0  Womens E-Mail      0           0    0.0  \n",
       "1      No E-Mail      0           0    0.0  \n",
       "2  Womens E-Mail      0           0    0.0  "
      ]
     },
     "execution_count": 8,
     "metadata": {},
     "output_type": "execute_result"
    }
   ],
   "source": []
  },
  {
   "cell_type": "code",
   "execution_count": 9,
   "metadata": {},
   "outputs": [
    {
     "data": {
      "text/html": [
       "<div>\n",
       "<style scoped>\n",
       "    .dataframe tbody tr th:only-of-type {\n",
       "        vertical-align: middle;\n",
       "    }\n",
       "\n",
       "    .dataframe tbody tr th {\n",
       "        vertical-align: top;\n",
       "    }\n",
       "\n",
       "    .dataframe thead th {\n",
       "        text-align: right;\n",
       "    }\n",
       "</style>\n",
       "<table border=\"1\" class=\"dataframe\">\n",
       "  <thead>\n",
       "    <tr style=\"text-align: right;\">\n",
       "      <th></th>\n",
       "      <th>recency</th>\n",
       "      <th>history_segment</th>\n",
       "      <th>history</th>\n",
       "      <th>mens</th>\n",
       "      <th>womens</th>\n",
       "      <th>zip_code</th>\n",
       "      <th>newbie</th>\n",
       "      <th>channel</th>\n",
       "      <th>segment</th>\n",
       "      <th>visit</th>\n",
       "      <th>conversion</th>\n",
       "      <th>spend</th>\n",
       "      <th>treatment</th>\n",
       "      <th>history_log</th>\n",
       "      <th>history_log_grp</th>\n",
       "    </tr>\n",
       "  </thead>\n",
       "  <tbody>\n",
       "    <tr>\n",
       "      <th>1</th>\n",
       "      <td>6</td>\n",
       "      <td>3) $200 - $350</td>\n",
       "      <td>329.08</td>\n",
       "      <td>1</td>\n",
       "      <td>1</td>\n",
       "      <td>Rural</td>\n",
       "      <td>1</td>\n",
       "      <td>Web</td>\n",
       "      <td>No E-Mail</td>\n",
       "      <td>0</td>\n",
       "      <td>0</td>\n",
       "      <td>0.0</td>\n",
       "      <td>0</td>\n",
       "      <td>5.796301</td>\n",
       "      <td>5.8</td>\n",
       "    </tr>\n",
       "    <tr>\n",
       "      <th>3</th>\n",
       "      <td>9</td>\n",
       "      <td>5) $500 - $750</td>\n",
       "      <td>675.83</td>\n",
       "      <td>1</td>\n",
       "      <td>0</td>\n",
       "      <td>Rural</td>\n",
       "      <td>1</td>\n",
       "      <td>Web</td>\n",
       "      <td>Mens E-Mail</td>\n",
       "      <td>0</td>\n",
       "      <td>0</td>\n",
       "      <td>0.0</td>\n",
       "      <td>1</td>\n",
       "      <td>6.515942</td>\n",
       "      <td>6.5</td>\n",
       "    </tr>\n",
       "    <tr>\n",
       "      <th>8</th>\n",
       "      <td>9</td>\n",
       "      <td>5) $500 - $750</td>\n",
       "      <td>675.07</td>\n",
       "      <td>1</td>\n",
       "      <td>1</td>\n",
       "      <td>Rural</td>\n",
       "      <td>1</td>\n",
       "      <td>Phone</td>\n",
       "      <td>Mens E-Mail</td>\n",
       "      <td>0</td>\n",
       "      <td>0</td>\n",
       "      <td>0.0</td>\n",
       "      <td>1</td>\n",
       "      <td>6.514816</td>\n",
       "      <td>6.5</td>\n",
       "    </tr>\n",
       "    <tr>\n",
       "      <th>13</th>\n",
       "      <td>2</td>\n",
       "      <td>2) $100 - $200</td>\n",
       "      <td>101.64</td>\n",
       "      <td>0</td>\n",
       "      <td>1</td>\n",
       "      <td>Urban</td>\n",
       "      <td>0</td>\n",
       "      <td>Web</td>\n",
       "      <td>Mens E-Mail</td>\n",
       "      <td>1</td>\n",
       "      <td>0</td>\n",
       "      <td>0.0</td>\n",
       "      <td>1</td>\n",
       "      <td>4.621437</td>\n",
       "      <td>4.6</td>\n",
       "    </tr>\n",
       "    <tr>\n",
       "      <th>14</th>\n",
       "      <td>4</td>\n",
       "      <td>3) $200 - $350</td>\n",
       "      <td>241.42</td>\n",
       "      <td>0</td>\n",
       "      <td>1</td>\n",
       "      <td>Rural</td>\n",
       "      <td>1</td>\n",
       "      <td>Multichannel</td>\n",
       "      <td>No E-Mail</td>\n",
       "      <td>0</td>\n",
       "      <td>0</td>\n",
       "      <td>0.0</td>\n",
       "      <td>0</td>\n",
       "      <td>5.486538</td>\n",
       "      <td>5.5</td>\n",
       "    </tr>\n",
       "  </tbody>\n",
       "</table>\n",
       "</div>"
      ],
      "text/plain": [
       "    recency history_segment  history  mens  womens zip_code  newbie  \\\n",
       "1         6  3) $200 - $350   329.08     1       1    Rural       1   \n",
       "3         9  5) $500 - $750   675.83     1       0    Rural       1   \n",
       "8         9  5) $500 - $750   675.07     1       1    Rural       1   \n",
       "13        2  2) $100 - $200   101.64     0       1    Urban       0   \n",
       "14        4  3) $200 - $350   241.42     0       1    Rural       1   \n",
       "\n",
       "         channel      segment  visit  conversion  spend  treatment  \\\n",
       "1            Web    No E-Mail      0           0    0.0          0   \n",
       "3            Web  Mens E-Mail      0           0    0.0          1   \n",
       "8          Phone  Mens E-Mail      0           0    0.0          1   \n",
       "13           Web  Mens E-Mail      1           0    0.0          1   \n",
       "14  Multichannel    No E-Mail      0           0    0.0          0   \n",
       "\n",
       "    history_log  history_log_grp  \n",
       "1      5.796301              5.8  \n",
       "3      6.515942              6.5  \n",
       "8      6.514816              6.5  \n",
       "13     4.621437              4.6  \n",
       "14     5.486538              5.5  "
      ]
     },
     "execution_count": 9,
     "metadata": {},
     "output_type": "execute_result"
    }
   ],
   "source": [
    "male_data = email_data[email_data['segment'] != 'Womens E-Mail']\n",
    "male_data['treatment'] = male_data['segment'].map(lambda x: 1 if x == 'Mens E-Mail' else 0)\n",
    "male_data['history_log'] = np.log(male_data['history'])\n",
    "male_data['history_log_grp'] = np.round(male_data['history_log']/0.1)*0.1\n",
    "male_data.head()"
   ]
  },
  {
   "cell_type": "code",
   "execution_count": 10,
   "metadata": {},
   "outputs": [
    {
     "data": {
      "text/html": [
       "<div>\n",
       "<style scoped>\n",
       "    .dataframe tbody tr th:only-of-type {\n",
       "        vertical-align: middle;\n",
       "    }\n",
       "\n",
       "    .dataframe tbody tr th {\n",
       "        vertical-align: top;\n",
       "    }\n",
       "\n",
       "    .dataframe thead th {\n",
       "        text-align: right;\n",
       "    }\n",
       "</style>\n",
       "<table border=\"1\" class=\"dataframe\">\n",
       "  <thead>\n",
       "    <tr style=\"text-align: right;\">\n",
       "      <th></th>\n",
       "      <th>history_log_grp</th>\n",
       "      <th>segment</th>\n",
       "      <th>mean</th>\n",
       "      <th>count</th>\n",
       "    </tr>\n",
       "  </thead>\n",
       "  <tbody>\n",
       "    <tr>\n",
       "      <th>0</th>\n",
       "      <td>3.4</td>\n",
       "      <td>Mens E-Mail</td>\n",
       "      <td>0.146545</td>\n",
       "      <td>2750</td>\n",
       "    </tr>\n",
       "    <tr>\n",
       "      <th>1</th>\n",
       "      <td>3.4</td>\n",
       "      <td>No E-Mail</td>\n",
       "      <td>0.086988</td>\n",
       "      <td>2805</td>\n",
       "    </tr>\n",
       "    <tr>\n",
       "      <th>2</th>\n",
       "      <td>3.5</td>\n",
       "      <td>Mens E-Mail</td>\n",
       "      <td>0.169118</td>\n",
       "      <td>272</td>\n",
       "    </tr>\n",
       "    <tr>\n",
       "      <th>3</th>\n",
       "      <td>3.5</td>\n",
       "      <td>No E-Mail</td>\n",
       "      <td>0.084942</td>\n",
       "      <td>259</td>\n",
       "    </tr>\n",
       "    <tr>\n",
       "      <th>4</th>\n",
       "      <td>3.6</td>\n",
       "      <td>Mens E-Mail</td>\n",
       "      <td>0.158576</td>\n",
       "      <td>309</td>\n",
       "    </tr>\n",
       "  </tbody>\n",
       "</table>\n",
       "</div>"
      ],
      "text/plain": [
       "   history_log_grp      segment      mean  count\n",
       "0              3.4  Mens E-Mail  0.146545   2750\n",
       "1              3.4    No E-Mail  0.086988   2805\n",
       "2              3.5  Mens E-Mail  0.169118    272\n",
       "3              3.5    No E-Mail  0.084942    259\n",
       "4              3.6  Mens E-Mail  0.158576    309"
      ]
     },
     "execution_count": 10,
     "metadata": {},
     "output_type": "execute_result"
    }
   ],
   "source": [
    "male_data_groupby = male_data.groupby(['history_log_grp', 'segment'])['visit'].agg(['mean', 'count']).reset_index()\n",
    "male_data_groupby = male_data_groupby.loc[male_data_groupby['count'] > 10]\n",
    "male_data_groupby.head()"
   ]
  },
  {
   "cell_type": "code",
   "execution_count": 13,
   "metadata": {},
   "outputs": [
    {
     "data": {
      "image/png": "[encoded data removed]",
      "text/plain": [
       "<Figure size 432x288 with 1 Axes>"
      ]
     },
     "metadata": {
      "needs_background": "light"
     },
     "output_type": "display_data"
    }
   ],
   "source": [
    "import seaborn as sns\n",
    "\n",
    "sns.scatterplot(\n",
    "    data=male_data_groupby,\n",
    "    x=\"history_log_grp\",\n",
    "    y=\"mean\",\n",
    "    hue=\"segment\",\n",
    "    size=\"count\"\n",
    ");"
   ]
  },
  {
   "cell_type": "code",
   "execution_count": 14,
   "metadata": {},
   "outputs": [],
   "source": [
    "threshold_value = 5.5\n",
    "\n",
    "rdd_data = male_data.loc[\n",
    "    ((male_data['history_log'] > threshold_value) & (male_data['segment'] == 'Mens E-Mail')) |\n",
    "    ((male_data['history_log'] <= threshold_value) & (male_data['segment'] == 'No E-Mail'))\n",
    "]\n"
   ]
  },
  {
   "cell_type": "code",
   "execution_count": 15,
   "metadata": {},
   "outputs": [
    {
     "data": {
      "text/html": [
       "<div>\n",
       "<style scoped>\n",
       "    .dataframe tbody tr th:only-of-type {\n",
       "        vertical-align: middle;\n",
       "    }\n",
       "\n",
       "    .dataframe tbody tr th {\n",
       "        vertical-align: top;\n",
       "    }\n",
       "\n",
       "    .dataframe thead th {\n",
       "        text-align: right;\n",
       "    }\n",
       "</style>\n",
       "<table border=\"1\" class=\"dataframe\">\n",
       "  <thead>\n",
       "    <tr style=\"text-align: right;\">\n",
       "      <th></th>\n",
       "      <th>history_log_grp</th>\n",
       "      <th>segment</th>\n",
       "      <th>mean</th>\n",
       "      <th>count</th>\n",
       "    </tr>\n",
       "  </thead>\n",
       "  <tbody>\n",
       "    <tr>\n",
       "      <th>0</th>\n",
       "      <td>3.4</td>\n",
       "      <td>No E-Mail</td>\n",
       "      <td>0.086988</td>\n",
       "      <td>2805</td>\n",
       "    </tr>\n",
       "    <tr>\n",
       "      <th>1</th>\n",
       "      <td>3.5</td>\n",
       "      <td>No E-Mail</td>\n",
       "      <td>0.084942</td>\n",
       "      <td>259</td>\n",
       "    </tr>\n",
       "    <tr>\n",
       "      <th>2</th>\n",
       "      <td>3.6</td>\n",
       "      <td>No E-Mail</td>\n",
       "      <td>0.094637</td>\n",
       "      <td>317</td>\n",
       "    </tr>\n",
       "    <tr>\n",
       "      <th>3</th>\n",
       "      <td>3.7</td>\n",
       "      <td>No E-Mail</td>\n",
       "      <td>0.073090</td>\n",
       "      <td>301</td>\n",
       "    </tr>\n",
       "    <tr>\n",
       "      <th>4</th>\n",
       "      <td>3.8</td>\n",
       "      <td>No E-Mail</td>\n",
       "      <td>0.078652</td>\n",
       "      <td>356</td>\n",
       "    </tr>\n",
       "  </tbody>\n",
       "</table>\n",
       "</div>"
      ],
      "text/plain": [
       "   history_log_grp    segment      mean  count\n",
       "0              3.4  No E-Mail  0.086988   2805\n",
       "1              3.5  No E-Mail  0.084942    259\n",
       "2              3.6  No E-Mail  0.094637    317\n",
       "3              3.7  No E-Mail  0.073090    301\n",
       "4              3.8  No E-Mail  0.078652    356"
      ]
     },
     "execution_count": 15,
     "metadata": {},
     "output_type": "execute_result"
    }
   ],
   "source": [
    "rdd_data_groupby = rdd_data.groupby(['history_log_grp', 'segment'])['visit'].agg(['mean', 'count']).reset_index()\n",
    "rdd_data_groupby = rdd_data_groupby.loc[rdd_data_groupby['count'] > 10]\n",
    "rdd_data_groupby.head()\n"
   ]
  },
  {
   "cell_type": "code",
   "execution_count": 20,
   "metadata": {},
   "outputs": [
    {
     "data": {
      "image/png": "[encoded data removed]",
      "text/plain": [
       "<Figure size 432x288 with 1 Axes>"
      ]
     },
     "metadata": {
      "needs_background": "light"
     },
     "output_type": "display_data"
    }
   ],
   "source": [
    "import matplotlib.pyplot as plt\n",
    "\n",
    "sns.scatterplot(\n",
    "    data=rdd_data_groupby,\n",
    "    x='history_log_grp',\n",
    "    y='mean',\n",
    "    hue='segment',\n",
    "    size='count'\n",
    ");\n",
    "\n",
    "plt.grid()\n",
    "plt.axvline([5.5], color='black', ls=':');\n"
   ]
  },
  {
   "cell_type": "code",
   "execution_count": 21,
   "metadata": {},
   "outputs": [
    {
     "data": {
      "text/html": [
       "<div>\n",
       "<style scoped>\n",
       "    .dataframe tbody tr th:only-of-type {\n",
       "        vertical-align: middle;\n",
       "    }\n",
       "\n",
       "    .dataframe tbody tr th {\n",
       "        vertical-align: top;\n",
       "    }\n",
       "\n",
       "    .dataframe thead th {\n",
       "        text-align: right;\n",
       "    }\n",
       "</style>\n",
       "<table border=\"1\" class=\"dataframe\">\n",
       "  <thead>\n",
       "    <tr style=\"text-align: right;\">\n",
       "      <th></th>\n",
       "      <th>mean</th>\n",
       "      <th>count</th>\n",
       "    </tr>\n",
       "    <tr>\n",
       "      <th>treatment</th>\n",
       "      <th></th>\n",
       "      <th></th>\n",
       "    </tr>\n",
       "  </thead>\n",
       "  <tbody>\n",
       "    <tr>\n",
       "      <th>0</th>\n",
       "      <td>0.090694</td>\n",
       "      <td>13926</td>\n",
       "    </tr>\n",
       "    <tr>\n",
       "      <th>1</th>\n",
       "      <td>0.224002</td>\n",
       "      <td>7366</td>\n",
       "    </tr>\n",
       "  </tbody>\n",
       "</table>\n",
       "</div>"
      ],
      "text/plain": [
       "               mean  count\n",
       "treatment                 \n",
       "0          0.090694  13926\n",
       "1          0.224002   7366"
      ]
     },
     "execution_count": 21,
     "metadata": {},
     "output_type": "execute_result"
    }
   ],
   "source": [
    "rdd_data.groupby(['treatment'])['visit'].agg(['mean', 'count'])\n"
   ]
  },
  {
   "cell_type": "code",
   "execution_count": 22,
   "metadata": {},
   "outputs": [],
   "source": [
    "import statsmodels.api as sm\n",
    "import statsmodels.formula.api as smf\n"
   ]
  },
  {
   "cell_type": "code",
   "execution_count": 23,
   "metadata": {},
   "outputs": [
    {
     "data": {
      "text/html": [
       "<table class=\"simpletable\">\n",
       "<tr>\n",
       "       <td></td>          <th>coef</th>     <th>std err</th>      <th>t</th>      <th>P>|t|</th>  <th>[0.025</th>    <th>0.975]</th>  \n",
       "</tr>\n",
       "<tr>\n",
       "  <th>Intercept</th>   <td>    0.0404</td> <td>    0.016</td> <td>    2.454</td> <td> 0.014</td> <td>    0.008</td> <td>    0.073</td>\n",
       "</tr>\n",
       "<tr>\n",
       "  <th>treatment</th>   <td>    0.1137</td> <td>    0.008</td> <td>   14.240</td> <td> 0.000</td> <td>    0.098</td> <td>    0.129</td>\n",
       "</tr>\n",
       "<tr>\n",
       "  <th>history_log</th> <td>    0.0114</td> <td>    0.004</td> <td>    3.103</td> <td> 0.002</td> <td>    0.004</td> <td>    0.019</td>\n",
       "</tr>\n",
       "</table>"
      ],
      "text/plain": [
       "<class 'statsmodels.iolib.table.SimpleTable'>"
      ]
     },
     "execution_count": 23,
     "metadata": {},
     "output_type": "execute_result"
    }
   ],
   "source": [
    "rdd_lm_reg = smf.ols(\n",
    "    data=rdd_data,\n",
    "    formula='visit ~ treatment + history_log'\n",
    ").fit()\n",
    "\n",
    "rdd_lm_reg.summary().tables[1]\n"
   ]
  },
  {
   "cell_type": "code",
   "execution_count": 24,
   "metadata": {},
   "outputs": [],
   "source": [
    "for i in range(4):\n",
    "    poly_col_name = 'history_log' + '_' + str(i+1)\n",
    "    interaction_col_name = 'treatment_' + 'history_log' + '_' + str(i+1)\n",
    "    rdd_data[poly_col_name] = (rdd_data['history_log']-threshold_value)**(i+1)\n",
    "    rdd_data[interaction_col_name] = rdd_data[poly_col_name] * rdd_data['treatment']\n",
    "    "
   ]
  },
  {
   "cell_type": "code",
   "execution_count": 25,
   "metadata": {},
   "outputs": [
    {
     "data": {
      "text/html": [
       "<table class=\"simpletable\">\n",
       "<tr>\n",
       "             <td></td>                <th>coef</th>     <th>std err</th>      <th>t</th>      <th>P>|t|</th>  <th>[0.025</th>    <th>0.975]</th>  \n",
       "</tr>\n",
       "<tr>\n",
       "  <th>Intercept</th>               <td>    0.1327</td> <td>    0.014</td> <td>    9.654</td> <td> 0.000</td> <td>    0.106</td> <td>    0.160</td>\n",
       "</tr>\n",
       "<tr>\n",
       "  <th>treatment</th>               <td>    0.0741</td> <td>    0.020</td> <td>    3.774</td> <td> 0.000</td> <td>    0.036</td> <td>    0.113</td>\n",
       "</tr>\n",
       "<tr>\n",
       "  <th>history_log_1</th>           <td>    0.1522</td> <td>    0.092</td> <td>    1.661</td> <td> 0.097</td> <td>   -0.027</td> <td>    0.332</td>\n",
       "</tr>\n",
       "<tr>\n",
       "  <th>history_log_2</th>           <td>    0.1877</td> <td>    0.178</td> <td>    1.056</td> <td> 0.291</td> <td>   -0.161</td> <td>    0.536</td>\n",
       "</tr>\n",
       "<tr>\n",
       "  <th>history_log_3</th>           <td>    0.1068</td> <td>    0.126</td> <td>    0.847</td> <td> 0.397</td> <td>   -0.140</td> <td>    0.354</td>\n",
       "</tr>\n",
       "<tr>\n",
       "  <th>history_log_4</th>           <td>    0.0224</td> <td>    0.029</td> <td>    0.769</td> <td> 0.442</td> <td>   -0.035</td> <td>    0.079</td>\n",
       "</tr>\n",
       "<tr>\n",
       "  <th>treatment_history_log_1</th> <td>   -0.0406</td> <td>    0.135</td> <td>   -0.300</td> <td> 0.764</td> <td>   -0.306</td> <td>    0.225</td>\n",
       "</tr>\n",
       "<tr>\n",
       "  <th>treatment_history_log_2</th> <td>   -0.3928</td> <td>    0.271</td> <td>   -1.449</td> <td> 0.147</td> <td>   -0.924</td> <td>    0.139</td>\n",
       "</tr>\n",
       "<tr>\n",
       "  <th>treatment_history_log_3</th> <td>    0.0278</td> <td>    0.198</td> <td>    0.140</td> <td> 0.888</td> <td>   -0.360</td> <td>    0.415</td>\n",
       "</tr>\n",
       "<tr>\n",
       "  <th>treatment_history_log_4</th> <td>   -0.0484</td> <td>    0.047</td> <td>   -1.032</td> <td> 0.302</td> <td>   -0.140</td> <td>    0.044</td>\n",
       "</tr>\n",
       "</table>"
      ],
      "text/plain": [
       "<class 'statsmodels.iolib.table.SimpleTable'>"
      ]
     },
     "execution_count": 25,
     "metadata": {},
     "output_type": "execute_result"
    }
   ],
   "source": [
    "nonlinear_rdd_ord4 = smf.ols(\n",
    "    data=rdd_data,\n",
    "    formula='''\n",
    "        visit ~ treatment + history_log_1 + history_log_2 + history_log_3 + history_log_4 + \n",
    "                treatment_history_log_1 + treatment_history_log_2 + treatment_history_log_3 + treatment_history_log_4\n",
    "    '''\n",
    ").fit()\n",
    "\n",
    "nonlinear_rdd_ord4.summary().tables[1]\n"
   ]
  },
  {
   "cell_type": "code",
   "execution_count": null,
   "metadata": {},
   "outputs": [],
   "source": []
  }
 ],
 "metadata": {
  "kernelspec": {
   "display_name": "Python 3",
   "language": "python",
   "name": "python3"
  },
  "language_info": {
   "codemirror_mode": {
    "name": "ipython",
    "version": 3
   },
   "file_extension": ".py",
   "mimetype": "text/x-python",
   "name": "python",
   "nbconvert_exporter": "python",
   "pygments_lexer": "ipython3",
   "version": "3.8.3"
  }
 },
 "nbformat": 4,
 "nbformat_minor": 1
}